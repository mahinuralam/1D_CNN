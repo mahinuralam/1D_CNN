{
 "cells": [
  {
   "cell_type": "code",
   "execution_count": 1,
   "id": "29d78bf3",
   "metadata": {},
   "outputs": [
    {
     "name": "stdout",
     "output_type": "stream",
     "text": [
      "Requirement already satisfied: Pyppeteer in /home/mahinur/miniconda3/lib/python3.10/site-packages (1.0.2)\n",
      "Requirement already satisfied: appdirs<2.0.0,>=1.4.3 in /home/mahinur/miniconda3/lib/python3.10/site-packages (from Pyppeteer) (1.4.4)\n",
      "Requirement already satisfied: certifi>=2021 in /home/mahinur/.local/lib/python3.10/site-packages (from Pyppeteer) (2022.12.7)\n",
      "Requirement already satisfied: importlib-metadata>=1.4 in /home/mahinur/miniconda3/lib/python3.10/site-packages (from Pyppeteer) (6.8.0)\n",
      "Requirement already satisfied: pyee<9.0.0,>=8.1.0 in /home/mahinur/miniconda3/lib/python3.10/site-packages (from Pyppeteer) (8.2.2)\n",
      "Requirement already satisfied: tqdm<5.0.0,>=4.42.1 in /home/mahinur/.local/lib/python3.10/site-packages (from Pyppeteer) (4.65.0)\n",
      "Requirement already satisfied: urllib3<2.0.0,>=1.25.8 in /home/mahinur/miniconda3/lib/python3.10/site-packages (from Pyppeteer) (1.26.15)\n",
      "Requirement already satisfied: websockets<11.0,>=10.0 in /home/mahinur/miniconda3/lib/python3.10/site-packages (from Pyppeteer) (10.4)\n",
      "Requirement already satisfied: zipp>=0.5 in /home/mahinur/miniconda3/lib/python3.10/site-packages (from importlib-metadata>=1.4->Pyppeteer) (3.16.1)\n",
      "chromium is already installed.\n"
     ]
    },
    {
     "name": "stderr",
     "output_type": "stream",
     "text": [
      "2023-07-15 00:01:01.502700: I tensorflow/core/platform/cpu_feature_guard.cc:182] This TensorFlow binary is optimized to use available CPU instructions in performance-critical operations.\n",
      "To enable the following instructions: AVX2 FMA, in other operations, rebuild TensorFlow with the appropriate compiler flags.\n",
      "2023-07-15 00:01:02.713734: W tensorflow/compiler/tf2tensorrt/utils/py_utils.cc:38] TF-TRT Warning: Could not find TensorRT\n"
     ]
    }
   ],
   "source": [
    "#imports\n",
    "%matplotlib inline\n",
    "import pandas as pd\n",
    "import plotly.express as px\n",
    "\n",
    "# 2 lines below for html export\n",
    "import plotly.io as pio\n",
    "pio.renderers.default ='notebook'\n",
    "\n",
    "# 2 lines below for PDF export\n",
    "!pip install Pyppeteer\n",
    "!pyppeteer-install\n",
    "import random \n",
    "import tensorflow as tf\n",
    "import numpy as np\n",
    "import pandas as pd\n",
    "from tensorflow.python.keras.models import Sequential\n",
    "from tensorflow.python.keras.layers import Dense, Flatten, Activation, Conv1D, MaxPooling1D, Dropout, Lambda, LeakyReLU\n",
    "from sklearn import preprocessing\n",
    "from sklearn.preprocessing import MinMaxScaler\n",
    "from sklearn.model_selection import train_test_split\n",
    "from tensorflow.keras.models import Sequential\n",
    "from tensorflow.keras.layers import Conv1D, MaxPooling1D, Flatten, Dense\n"
   ]
  },
  {
   "cell_type": "code",
   "execution_count": 2,
   "id": "77b25766",
   "metadata": {},
   "outputs": [],
   "source": [
    "data1 = pd.read_csv('/home/mahinur/Desktop/CSV_1.csv')\n",
    "data2 = pd.read_csv('/home/mahinur/Desktop/CSV_2.csv')"
   ]
  },
  {
   "cell_type": "code",
   "execution_count": 3,
   "id": "e62264a5",
   "metadata": {},
   "outputs": [],
   "source": [
    "merged_data = pd.merge(data1, data2, on='sid')\n",
    "\n",
    "numeric_columns = merged_data.select_dtypes(include=[float, int]).columns\n",
    "merged_data = merged_data[numeric_columns]\n",
    "\n",
    "# Normalize the merged data using Min-Max scaling\n",
    "scaler = MinMaxScaler()\n",
    "normalized_data = pd.DataFrame(scaler.fit_transform(merged_data), columns=merged_data.columns)\n",
    "\n",
    "# Save the normalized data to a new CSV file\n",
    "normalized_data.to_csv('/home/mahinur/Desktop/normalized_data.csv', index=False)"
   ]
  },
  {
   "cell_type": "code",
   "execution_count": 4,
   "id": "2f7ac50e",
   "metadata": {},
   "outputs": [
    {
     "name": "stderr",
     "output_type": "stream",
     "text": [
      "2023-07-15 00:01:08.318425: E tensorflow/compiler/xla/stream_executor/cuda/cuda_driver.cc:268] failed call to cuInit: CUDA_ERROR_NO_DEVICE: no CUDA-capable device is detected\n"
     ]
    },
    {
     "name": "stdout",
     "output_type": "stream",
     "text": [
      "Epoch 1/10\n",
      "374/374 [==============================] - 2s 4ms/step - loss: 0.2790 - accuracy: 0.9121 - val_loss: 0.2599 - val_accuracy: 0.9177\n",
      "Epoch 2/10\n",
      "374/374 [==============================] - 1s 2ms/step - loss: 0.2740 - accuracy: 0.9121 - val_loss: 0.2571 - val_accuracy: 0.9177\n",
      "Epoch 3/10\n",
      "374/374 [==============================] - 1s 3ms/step - loss: 0.2731 - accuracy: 0.9121 - val_loss: 0.2537 - val_accuracy: 0.9177\n",
      "Epoch 4/10\n",
      "374/374 [==============================] - 2s 6ms/step - loss: 0.2708 - accuracy: 0.9121 - val_loss: 0.2536 - val_accuracy: 0.9177\n",
      "Epoch 5/10\n",
      "374/374 [==============================] - 2s 5ms/step - loss: 0.2705 - accuracy: 0.9121 - val_loss: 0.2557 - val_accuracy: 0.9177\n",
      "Epoch 6/10\n",
      "374/374 [==============================] - 2s 4ms/step - loss: 0.2707 - accuracy: 0.9121 - val_loss: 0.2527 - val_accuracy: 0.9177\n",
      "Epoch 7/10\n",
      "374/374 [==============================] - 25s 66ms/step - loss: 0.2707 - accuracy: 0.9121 - val_loss: 0.2533 - val_accuracy: 0.9177\n",
      "Epoch 8/10\n",
      "374/374 [==============================] - 2s 4ms/step - loss: 0.2690 - accuracy: 0.9121 - val_loss: 0.2522 - val_accuracy: 0.9177\n",
      "Epoch 9/10\n",
      "374/374 [==============================] - 1s 3ms/step - loss: 0.2690 - accuracy: 0.9121 - val_loss: 0.2585 - val_accuracy: 0.9177\n",
      "Epoch 10/10\n",
      "374/374 [==============================] - 1s 3ms/step - loss: 0.2688 - accuracy: 0.9123 - val_loss: 0.2551 - val_accuracy: 0.9164\n",
      "47/47 [==============================] - 0s 2ms/step - loss: 0.2551 - accuracy: 0.9164\n",
      "Test Loss: 0.2551\n",
      "Test Accuracy: 0.9164\n"
     ]
    }
   ],
   "source": [
    "# Load the normalized data from the CSV file\n",
    "normalized_data = pd.read_csv('/home/mahinur/Desktop/normalized_data.csv')\n",
    "\n",
    "# Extract the features (X) and target (y) columns\n",
    "X = normalized_data.drop('output1', axis=1).values\n",
    "y = normalized_data['output1'].values\n",
    "\n",
    "# Reshape X to match the expected input shape of the 1D CNN\n",
    "X = np.reshape(X, (X.shape[0], X.shape[1], 1))\n",
    "\n",
    "# Split the data into training and testing sets\n",
    "X_train, X_test, y_train, y_test = train_test_split(X, y, test_size=0.2, random_state=42)\n",
    "\n",
    "# Create a 1D CNN model\n",
    "model = Sequential()\n",
    "model.add(Conv1D(filters=32, kernel_size=3, activation='relu', input_shape=(X.shape[1], 1)))\n",
    "model.add(MaxPooling1D(pool_size=2))\n",
    "model.add(Flatten())\n",
    "model.add(Dense(64, activation='relu'))\n",
    "model.add(Dense(1, activation='sigmoid'))\n",
    "\n",
    "# Compile the model\n",
    "model.compile(loss='binary_crossentropy', optimizer='adam', metrics=['accuracy'])\n",
    "\n",
    "# Train the model\n",
    "model.fit(X_train, y_train, epochs=10, batch_size=16, validation_data=(X_test, y_test))\n",
    "\n",
    "# Evaluate the model\n",
    "loss, accuracy = model.evaluate(X_test, y_test)\n",
    "print(f\"Test Loss: {loss:.4f}\")\n",
    "print(f\"Test Accuracy: {accuracy:.4f}\")"
   ]
  },
  {
   "cell_type": "code",
   "execution_count": null,
   "id": "ff1d4fb2",
   "metadata": {},
   "outputs": [],
   "source": []
  }
 ],
 "metadata": {
  "kernelspec": {
   "display_name": "Python 3 (ipykernel)",
   "language": "python",
   "name": "python3"
  },
  "language_info": {
   "codemirror_mode": {
    "name": "ipython",
    "version": 3
   },
   "file_extension": ".py",
   "mimetype": "text/x-python",
   "name": "python",
   "nbconvert_exporter": "python",
   "pygments_lexer": "ipython3",
   "version": "3.10.10"
  }
 },
 "nbformat": 4,
 "nbformat_minor": 5
}
